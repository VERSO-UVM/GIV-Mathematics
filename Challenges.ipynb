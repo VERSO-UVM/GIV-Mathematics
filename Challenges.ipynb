{
 "cells": [
  {
   "cell_type": "markdown",
   "metadata": {},
   "source": [
    "# Challenges\n",
    "\n",
    "Form a group of 3-4 people and try to solve as many of these as you can. Remember everyone's answer can be correct and be a little different"
   ]
  },
  {
   "cell_type": "markdown",
   "metadata": {},
   "source": [
    "## The Locker Problem\n",
    "Imagine a row of 100 closed lockers numbered sequentially. 100 people walk by the lockers. The first person changes the state of every locker -- in this case they open every locker. The second person changes the state of every second locker -- they will close lockers 2, 4, 6, 8, and so on. The third person changes every 3rd locker -- closing locker 3, opening 6, and so on. This continues until all 100 people walk by. The 100th person just touches the 100th locker. Which lockers are open?"
   ]
  },
  {
   "cell_type": "code",
   "execution_count": null,
   "metadata": {
    "vscode": {
     "languageId": "plaintext"
    }
   },
   "outputs": [],
   "source": []
  },
  {
   "cell_type": "markdown",
   "metadata": {},
   "source": [
    "## Logical Pirates\n",
    "5 pirates of different ages have a treasure of 100 gold coins.\n",
    "On their ship, they decide to split the coins using this scheme:\n",
    "The oldest pirate proposes how to share the coins, and ALL pirates (including the oldest) vote for or against it.\n",
    "If 50% or more of the pirates vote for it, then the coins will be shared that way.\n",
    "\tOtherwise, the pirate proposing the scheme will be thrown overboard, and the process is\n",
    "\trepeated with the pirates that remain.\n",
    "\n",
    "As pirates tend to be a bloodthirsty bunch, if a pirate would get the same number of\n",
    "\tcoins if he voted for or against a proposal, he will vote against so that the pirate who\n",
    "\tproposed the plan will be thrown overboard.\n",
    "\n",
    "Assuming that all 5 pirates are intelligent, rational, greedy, and do not wish to die, (and\n",
    "\tare rather good at math for pirates) what will happen?"
   ]
  },
  {
   "cell_type": "code",
   "execution_count": null,
   "metadata": {
    "vscode": {
     "languageId": "plaintext"
    }
   },
   "outputs": [],
   "source": []
  },
  {
   "cell_type": "markdown",
   "metadata": {},
   "source": [
    "## Off The Top of Your Head\n",
    "Pal, Ral, and Sal are “Perfect Logicians”. One dat they attend a Math Club party and participate in some interesting activities. One such activity is “The Hat Game”. \n",
    "\n",
    "The Math Club President, Alpha, has three green hats and two yellow hats. Alpha puts blindfolds on Pal, Ral and Sal and then places a hat on each of their heads. When a blindfold is removed from one of the logicians he cannot see the hat he is wearing but he can see the hats of this two friends.\n",
    "\n",
    "Alpha removes the blindfold from Pal. Pal looks at his two friends and says, “I cannot tell what color hat I’m wearing.”\n",
    "Alpha removes the blindfold from Ral. Ral looks at his two friends and says, “I cannot tell what color hat I’m wearing.”\n",
    "\n",
    "Before Alpha removes the blindfold from Sal, Sal says “I know what color hat I’m wearing”. \n",
    "\n",
    "What color hat is Sal wearing?"
   ]
  },
  {
   "cell_type": "code",
   "execution_count": null,
   "metadata": {
    "vscode": {
     "languageId": "plaintext"
    }
   },
   "outputs": [],
   "source": []
  },
  {
   "cell_type": "markdown",
   "metadata": {},
   "source": [
    "## Logical Islanders in Paradise\n",
    "On an otherwise deserted and isolated island, 200 perfect logicians are stranded. The islanders are perfectly logical in every decision they make, and they will not do anything unless they are absolutely certain of the outcome. However, they cannot communicate with each other. They are forbidden from speaking with one another, or signing, or writing messages in the sand, else they are captured by the captain of a mysterious ship that visits the island each night.\n",
    "\n",
    "Of the 200 islanders, 100 have blue eyes, and 100 have brown eyes. However, no individual knows what color their own eyes are. There are no reflective surfaces on the island for the inhabitants to see a reflection of their own eyes. They can each see the 199 other islanders and their eye colors, but any given individual does not know if his or her own eyes are brown, blue, or perhaps another color entirely. And remember, they cannot communicate with each other in any way under penalty of death.\n",
    "\n",
    "Each night, when the captain of the ship comes, the islanders have a chance to leave the barren and desolate spit of land they have been marooned on. If an islander tells the captain the color of his or her own eyes, they may board the ship and leave. If they get it wrong, they will be captured.\n",
    "\n",
    "Now, there is one more person on the island: the guru, who the islanders know to always tell the truth. The guru has green eyes. One day, she stands up before all 200 islanders and says:\n",
    "I see a person with blue eyes.\n",
    "\n",
    "Who leaves the island (not captured)? And when do they leave?\n"
   ]
  },
  {
   "cell_type": "code",
   "execution_count": null,
   "metadata": {
    "vscode": {
     "languageId": "plaintext"
    }
   },
   "outputs": [],
   "source": []
  },
  {
   "cell_type": "markdown",
   "metadata": {},
   "source": [
    "## Two Missiles\n",
    "Two missiles speed directly toward each other, one at 9,000 miles per hour and one at 21,000 miles per hour.\n",
    "The missiles start 1,317 miles apart. How far apart are they one minute before they collide?"
   ]
  },
  {
   "cell_type": "code",
   "execution_count": null,
   "metadata": {
    "vscode": {
     "languageId": "plaintext"
    }
   },
   "outputs": [],
   "source": []
  },
  {
   "cell_type": "markdown",
   "metadata": {},
   "source": [
    "## The Bathtub Problem:\n",
    "My grandparents have an old bathtub with two separate faucets. The cold-water faucet can fill the tub in a half-hour and the hot-water faucet can fill the tube in an hour. How long will it take to fill the tub when they are both running together?"
   ]
  },
  {
   "cell_type": "code",
   "execution_count": null,
   "metadata": {
    "vscode": {
     "languageId": "plaintext"
    }
   },
   "outputs": [],
   "source": []
  }
 ],
 "metadata": {
  "language_info": {
   "name": "python"
  }
 },
 "nbformat": 4,
 "nbformat_minor": 2
}
